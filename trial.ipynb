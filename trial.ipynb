{
 "cells": [
  {
   "cell_type": "code",
   "execution_count": 25,
   "metadata": {},
   "outputs": [],
   "source": [
    "import requests\n",
    "from bs4 import BeautifulSoup"
   ]
  },
  {
   "cell_type": "code",
   "execution_count": 26,
   "metadata": {},
   "outputs": [],
   "source": [
    "from selenium import webdriver\n",
    "\n",
    "# Create a new instance of the Chrome driver\n",
    "driver = webdriver.Chrome()\n",
    "\n",
    "# Open the web page\n",
    "driver.get(url)\n",
    "\n",
    "# Scroll to the bottom of the page\n",
    "driver.execute_script(\"window.scrollTo(0, document.body.scrollHeight);\")\n",
    "\n",
    "# Get the content of the page\n",
    "content = driver.page_source\n",
    "\n",
    "# Close the driver\n",
    "driver.quit()"
   ]
  },
  {
   "cell_type": "code",
   "execution_count": 27,
   "metadata": {},
   "outputs": [],
   "source": [
    "soup = BeautifulSoup(content, \"html.parser\")\n",
    "\n",
    "tables = soup.find_all(\"table\", class_=\"table_style_red\")\n",
    "data = []\n",
    "for table in tables:\n",
    "    rows = table.find_all(\"tr\")\n",
    "    for row in rows:\n",
    "        elements = row.find_all(\"td\")\n",
    "        data.append([element.text for element in elements[1:]])"
   ]
  },
  {
   "cell_type": "code",
   "execution_count": 28,
   "metadata": {},
   "outputs": [],
   "source": [
    "new_data = []\n",
    "for item in data:\n",
    "    first_element = item[0]\n",
    "    second_element = item[1].split(',')\n",
    "    \n",
    "    second_element = [element.strip() for element in second_element]\n",
    "    if second_element == '':\n",
    "        continue\n",
    "    new_elements = [[first_element, element] for element in second_element]\n",
    "    new_data.extend(new_elements)"
   ]
  },
  {
   "cell_type": "code",
   "execution_count": 31,
   "metadata": {},
   "outputs": [],
   "source": [
    "swiss_vocab = {value: key for key, value in new_data}\n",
    "\n",
    "swiss_vocab.update({\n",
    "    \"Schubkarre\": \"Karette\", \n",
    "    \"Anzahlung\": \"Akonto\",\n",
    "    \"Körperbau\": \"Postur\",\n",
    "    \"Statur\": \"Postur\", \n",
    "    \"Parks\": \"Pärke\", \n",
    "    \"Kragen\": \"Krägen\", \n",
    "    \"Departements\": \"Departemente\",\n",
    "})"
   ]
  },
  {
   "cell_type": "code",
   "execution_count": 35,
   "metadata": {},
   "outputs": [],
   "source": [
    "word_dict = {\n",
    "    \"allenfalls\": \"unter Umständen\",\n",
    "    \"Altersjahr\": \"Lebensjahr\",\n",
    "    \"sich anerbieten\": \"sich zu etwas bereiterklären, etwas anbieten\",\n",
    "    \"Anfang Jahr\": \"Anfang des Jahres, am Jahresanfang\",\n",
    "    \"ankünden\": \"ankündigen\",\n",
    "    \"anläuten\": \"anrufen\",\n",
    "    \"Besammlung\": \"Versammlung\",\n",
    "    \"der Beschrieb\": \"die Beschreibung\",\n",
    "    \"bis anhin\": \"bis jetzt\",\n",
    "    \"bis und mit\": \"bis einschließlich\",\n",
    "    \"danebst\": \"daneben\",\n",
    "    \"dannzumal\": \"in der angesprochenen Zukunft\",\n",
    "    \"dannzumalig\": \"in der angesprochenen Zukunft existierend\",\n",
    "    \"Ferien\": \"Urlaub\",\n",
    "    \"in nützlicher Frist\": \"in absehbarer Zeit\",\n",
    "    \"inskünftig\": \"(Adv.) künftig, fortan, in Zukunft\\n(Adj.) zukünftig\",\n",
    "    \"je länger desto mehr, je länger je mehr\": \"immer mehr\",\n",
    "    \"jeweilen\": \"jeweils\",\n",
    "    \"männiglich\": \"jedermann\",\n",
    "    \"merci\": \"danke\",\n",
    "    \"minim\": \"minimal\",\n",
    "    \"das Natel\": \"das Mobiltelefon, Handy\",\n",
    "    \"obgenannt\": \"oben genannt\",\n",
    "    \"pendent\": \"noch nicht erledigt\",\n",
    "    \"die Pendenz\": \"unerledigte Aufgabe\",\n",
    "    \"pressieren\": \"1. dringend sein\\n2. sich beeilen\",\n",
    "    \"punkto\": \"(Präposition mit Genitiv oder Akkusativ) betreffend, betreffs, in puncto\",\n",
    "    \"raschestens, raschestmöglich\": \"so schnell wie möglich, unverzüglich, schnellstmöglich\",\n",
    "    \"rekurrieren\": \"1. Berufung einlegen\\n2. auf etwas zurückgehen, Bezug auf etwas nehmen\",\n",
    "    \"respektive\": \"beziehungsweise\",\n",
    "    \"retour\": \"zurück\",\n",
    "    \"schlussendlich\": \"schließlich, endlich, letztlich, letztendlich\",\n",
    "    \"speditiv\": \"effizient, zügig\",\n",
    "    \"der Telefonbeantworter\": \"der Anrufbeantworter\",\n",
    "    \"tönen\": \"klingen\",\n",
    "    \"untertags\": \"tagsüber\",\n",
    "    \"verdankenswert\": \"Dank verdienend\",\n",
    "    \"vorab\": \"vor allem, in erster Linie, insbesondere\",\n",
    "    \"vorzu\": \"jeweils im Augenblick, von Fall zu Fall\",\n",
    "    \"weiter\": \"ferner, weiterhin, außerdem\",\n",
    "    \"wiedererwägen\": \"sich erneut mit einer Sache auseinandersetzen\",\n",
    "    \"zudienen\": \"zur Hand gehen, unterstützend helfen\",\n",
    "    \"zuhinterst\": \"ganz hinten\",\n",
    "    \"zuoberst\": \"ganz oben\",\n",
    "    \"zwischenhinein\": \"zwischendurch\"\n",
    "}\n",
    "\n",
    "# Example of usage:\n",
    "flipped_dict = {}\n",
    "for key, value in word_dict.items():\n",
    "    if ',' in value:\n",
    "        split_values = value.split(',')\n",
    "        for split_value in split_values:\n",
    "            flipped_dict[split_value.strip()] = key\n",
    "    else:\n",
    "        flipped_dict[value] = key\n",
    "\n",
    "swiss_vocab.update(flipped_dict)"
   ]
  },
  {
   "cell_type": "code",
   "execution_count": 36,
   "metadata": {},
   "outputs": [],
   "source": [
    "import pickle\n",
    "with open('swiss_vocab.pickle', 'wb') as handle:\n",
    "    pickle.dump(swiss_vocab, handle, protocol=pickle.HIGHEST_PROTOCOL)"
   ]
  }
 ],
 "metadata": {
  "kernelspec": {
   "display_name": "german-to-swiss-g93V6pk1-py3.11",
   "language": "python",
   "name": "python3"
  },
  "language_info": {
   "codemirror_mode": {
    "name": "ipython",
    "version": 3
   },
   "file_extension": ".py",
   "mimetype": "text/x-python",
   "name": "python",
   "nbconvert_exporter": "python",
   "pygments_lexer": "ipython3",
   "version": "3.11.4"
  },
  "orig_nbformat": 4
 },
 "nbformat": 4,
 "nbformat_minor": 2
}
